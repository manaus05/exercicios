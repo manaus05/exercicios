{
  "nbformat": 4,
  "nbformat_minor": 0,
  "metadata": {
    "colab": {
      "provenance": [],
      "authorship_tag": "ABX9TyNaBPkmQs1NJaNfU00v+3rM",
      "include_colab_link": true
    },
    "kernelspec": {
      "name": "python3",
      "display_name": "Python 3"
    },
    "language_info": {
      "name": "python"
    }
  },
  "cells": [
    {
      "cell_type": "markdown",
      "metadata": {
        "id": "view-in-github",
        "colab_type": "text"
      },
      "source": [
        "<a href=\"https://colab.research.google.com/github/manaus05/exercicios/blob/main/exercicios_aip4_py.ipynb\" target=\"_parent\"><img src=\"https://colab.research.google.com/assets/colab-badge.svg\" alt=\"Open In Colab\"/></a>"
      ]
    },
    {
      "cell_type": "code",
      "execution_count": null,
      "metadata": {
        "id": "Xhl9NygofRpi"
      },
      "outputs": [],
      "source": [
        "#1. Escreva um programa que pede ao usuário para digitar um número de 1 a\n",
        "#7 representando um dia da semana. O programa deve exibir o nome do dia\n",
        "#correspondente. Use a estrutura match case para implementar essa\n",
        "#funcionalidade.\n",
        "\n",
        "x = int(input('digite um numero de 1 a 7: '))\n",
        "\n",
        "match x:\n",
        "    case 1: print('domingo')\n",
        "    case 2: print('segunda-feira')\n",
        "    case 3: print('terça-feira')\n",
        "    case 4: print('quarta-feira')\n",
        "    case 5: print('quinta-feira')\n",
        "    case 6: print('sext-feira')\n",
        "    case 7: print('sabado')\n",
        "    case _: print('invalido')"
      ]
    },
    {
      "cell_type": "code",
      "source": [
        "#2. Faça um programa que recebe três números inteiros do usuário e informa\n",
        "#qual é o maior deles.\n",
        "\n",
        "print('digite 3 numeros inteiros para definir qual é maior entre eles\\n')\n",
        "x = int(input('digite o primeiro numero: '))\n",
        "y = int(input('digite o segundo numero: '))\n",
        "z = int(input('digite o terceiro numero: '))\n",
        "\n",
        "if x>y and x>z: print(f'maior numero: {x}')\n",
        "elif y>x and y>z: print(f'maior numero: {y}')\n",
        "elif z>x and z>y: print(f'maior numero: {z}')\n",
        "elif z==x and z>y: print(f'maior numero: {z}')\n",
        "elif z==y and z>x: print(f'maior numero: {z}')\n",
        "elif y==x and y>z: print(f'maior numero: {y}')\n",
        "else: print(f'maior numero: {y}') #os 3 sao iguais"
      ],
      "metadata": {
        "id": "igZwOVJmg0VO"
      },
      "execution_count": null,
      "outputs": []
    },
    {
      "cell_type": "code",
      "source": [
        "#3. Escreva um programa que simula um caixa eletrônico. O programa deve\n",
        "#perguntar ao usuário qual o valor que ele deseja sacar. Em seguida, o\n",
        "#programa deve informar quantas notas de cada valor (R$ 100, R$ 50, R$ 20,\n",
        "#R$ 10) serão entregues. Considere que o caixa eletrônico possui um número\n",
        "#infinito de notas de cada valor.\n",
        "\n",
        "a = int(input('insira o valor que deseja sacar: R$'))\n",
        "\n",
        "if a%10 == 0:\n",
        " s100 = a//100\n",
        " b = a%100\n",
        " s50 = b//50\n",
        " c = b%50\n",
        " s20 = c//20\n",
        " d = c%20\n",
        " s10 = d//10\n",
        " if s100 != 0:\n",
        "   print(f'sacar {s100} notas de R$100,00 ')\n",
        " if s50 != 0:\n",
        "    print(f'sacar {s50} notas de R$50,00 ')\n",
        " if s20 != 0:\n",
        "    print(f'sacar {s20} notas de R$20,00 ')\n",
        " if s10 != 0:\n",
        "    print(f'sacar {s10} notas de R$10,00 ')\n",
        "else: print('valor invalido')\n",
        "\n"
      ],
      "metadata": {
        "id": "IQl0U8B_6ndu"
      },
      "execution_count": null,
      "outputs": []
    },
    {
      "cell_type": "code",
      "source": [
        "#4. Faça um programa que verifica se um aluno foi aprovado, reprovado ou\n",
        "#ficou em recuperação em uma disciplina. O programa deve solicitar as notas\n",
        "#do aluno em duas provas. Considere as seguintes condições:\n",
        "#• Se a média das notas for maior ou igual a 7, o aluno está aprovado.\n",
        "#• Se a média estiver entre 5 e 7 (inclusive), o aluno está em\n",
        "#recuperação.\n",
        "#• Se a média for menor que 5, o aluno está reprovado.\n",
        "\n",
        "x = int(input('insira sua nota da prova 1: '))\n",
        "y = int(input('insira sua nota da prova 2: '))\n",
        "\n",
        "z = (x+y)/2\n",
        "\n",
        "if z > 10 or z < 0: print('valor invalido')\n",
        "elif z >= 7: print('aprovado')\n",
        "elif 5 <= z < 7: print('recuperação')\n",
        "else: print('reprovado')"
      ],
      "metadata": {
        "id": "UZ-ueZUCGCiS"
      },
      "execution_count": null,
      "outputs": []
    },
    {
      "cell_type": "code",
      "source": [
        "#5. Escreva um programa que simula um menu de restaurante. O programa\n",
        "#deve apresentar opções de pratos para o usuário e solicitar que ele escolha\n",
        "#uma. Com base na escolha, o programa deve exibir uma mensagem\n",
        "#informando o tempo de preparo do prato. Use a estrutura match case para\n",
        "#implementar essa funcionalidade. Considere as seguintes opções:\n",
        "#• \"1\" -> \"Pizza: 30 minutos\"\n",
        "#• \"2\" -> \"Hambúrguer: 20 minutos\"\n",
        "#• \"3\" -> \"Salada: 10 minutos\"\n",
        "#• Outros -> \"Opção inválida\"\n",
        "\n",
        "print('para pedir pizza digite 1')\n",
        "print('para pedir hamburguer digite 2')\n",
        "print('para pedir salada digite 3')\n",
        "\n",
        "x = int(input('digite o numero de seu pedido: '))\n",
        "\n",
        "match x:\n",
        "  case 1: print('Pizza: seu pedido estara pronto em 30 minutos')\n",
        "  case 2: print('Hamburguer: seu pedido estara pronto em 20 minutos')\n",
        "  case 3: print('Salada: seu pedido estara pronto em 10 minutos')\n",
        "  case _: print('invalido')\n",
        "\n",
        "\n",
        "\n",
        "\n",
        "\n",
        "\n",
        "\n",
        "\n",
        "\n",
        "\n",
        "\n"
      ],
      "metadata": {
        "id": "MlGGlMXYHyk9"
      },
      "execution_count": null,
      "outputs": []
    }
  ]
}