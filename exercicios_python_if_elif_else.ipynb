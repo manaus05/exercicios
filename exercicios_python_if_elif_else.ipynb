{
  "cells": [
    {
      "cell_type": "markdown",
      "metadata": {
        "id": "view-in-github",
        "colab_type": "text"
      },
      "source": [
        "<a href=\"https://colab.research.google.com/github/manaus05/exercicios/blob/main/exercicios_python_if_elif_else.ipynb\" target=\"_parent\"><img src=\"https://colab.research.google.com/assets/colab-badge.svg\" alt=\"Open In Colab\"/></a>"
      ]
    },
    {
      "cell_type": "code",
      "source": [
        "#Crie um programa que pede a idade do usuário e informa se ele é maior de idade (18\n",
        "#anos ou mais) ou menor de idade.\n",
        "\n",
        "x = int(input('informe a sua idade: '))\n",
        "if x >= 18: print('você é maior de idade')\n",
        "else: print('você é menor de idade')"
      ],
      "metadata": {
        "colab": {
          "base_uri": "https://localhost:8080/"
        },
        "id": "goOd382_tqKy",
        "outputId": "e810d290-d34a-4cc0-f002-b12ebf782eb1"
      },
      "execution_count": null,
      "outputs": [
        {
          "output_type": "stream",
          "name": "stdout",
          "text": [
            "informe a sua idade: 16\n",
            "você é menor de idade\n"
          ]
        }
      ]
    },
    {
      "cell_type": "code",
      "source": [
        "#Peça ao usuário para inserir sua nota em uma disciplina. Utilize a estrutura `if`, `elif`,\n",
        "#`else` para classificar a nota em conceitos como \"A\" (de 90 a 100), \"B\" (de 80 a 89),\n",
        "#\"C\" (de 70 a 79), \"D\" (de 60 a 69) ou \"F\" (abaixo de 60).\n",
        "\n",
        "x = int(input('insira seus pontos de 0 a 100: '))\n",
        "if x > 100: print(\"insira uma nota válida\")\n",
        "elif x < 0: print(\"insira uma nota válida\")\n",
        "elif x < 60: print(\"sua nota: F\")\n",
        "elif 70 > x >= 60: print(\"sua nota: D\")\n",
        "elif 80 > x >= 70: print(\"sua nota: C\")\n",
        "elif 90 > x >= 80: print(\"sua nota: B\")\n",
        "else: print(\"sua nota: A\")"
      ],
      "metadata": {
        "colab": {
          "base_uri": "https://localhost:8080/"
        },
        "id": "qY8bAt_cw3Ff",
        "outputId": "f53eaff9-7580-46cb-aa68-7490084d8566"
      },
      "execution_count": null,
      "outputs": [
        {
          "output_type": "stream",
          "name": "stdout",
          "text": [
            "insira seus pontos de 0 a 100: 100\n",
            "sua nota: A\n"
          ]
        }
      ]
    },
    {
      "cell_type": "code",
      "source": [
        "#Crie um programa que solicite um número ao usuário. Use a estrutura `if`, `elif`, `else`\n",
        "#para verificar se o número é par ou ímpar e informe o resultado.\n",
        "\n",
        "x = int(input(\"digite um número: \"))\n",
        "d = x\n",
        "x % 2\n",
        "if x == 0: print(d, ' é um número par')\n",
        "else: print(d, ' é um número ímpar')"
      ],
      "metadata": {
        "colab": {
          "base_uri": "https://localhost:8080/"
        },
        "id": "o8m8-q431mbM",
        "outputId": "c2232f1a-1b1f-409e-f715-6e79b299bd50"
      },
      "execution_count": null,
      "outputs": [
        {
          "output_type": "stream",
          "name": "stdout",
          "text": [
            "digite um número: 8\n",
            "8  é um número ímpar\n"
          ]
        }
      ]
    },
    {
      "cell_type": "code",
      "source": [
        "#Peça ao usuário para inserir sua idade. Utilize a estrutura `if`, `elif`, `else` para informar\n",
        "#se a pessoa pode ou não votar (idade mínima de 16 anos para votar no Brasil).\n",
        "\n",
        "x = int(input('insira sua idade: '))\n",
        "if x >= 16: print('você pode votar.')\n",
        "else: print('você não pode votar, a idade mínima para votar é 16 anos.')"
      ],
      "metadata": {
        "colab": {
          "base_uri": "https://localhost:8080/"
        },
        "id": "CL2JyTXQ3kWi",
        "outputId": "91e4d002-7719-4c21-cb95-aece45ff765c"
      },
      "execution_count": null,
      "outputs": [
        {
          "output_type": "stream",
          "name": "stdout",
          "text": [
            "insira sua idade: 14\n",
            "você não pode votar, a idade mínima para votar é 16 anos.\n"
          ]
        }
      ]
    },
    {
      "cell_type": "code",
      "source": [
        "#Solicite ao usuário o valor total de suas compras em uma loja. Utilize a estrutura `if`,\n",
        "#`elif`, `else` para aplicar descontos com base no valor total:\n",
        "#- Desconto de 10% para compras acima de R$ 100,00.\n",
        "#- Desconto de 20% para compras acima de R$ 200,00.\n",
        "#- Desconto de 30% para compras acima de R$ 300,00.\n",
        "#- Caso contrário, nenhum desconto é aplicado.\n",
        "\n",
        "x = int(input('valor total das compras: R$:'))\n",
        "if x > 300:\n",
        "  d = x-(x/100)*30\n",
        "  print(f'valor total das compras: R$:{d}')\n",
        "elif x > 200:\n",
        "   d = x-(x/100*20)\n",
        "   print(f'valor total das compras: R$:{d}')\n",
        "elif x > 100:\n",
        "  d = x-(x/100*10)\n",
        "  print(f'valor total das compras: R$:{d}')\n",
        "else: print('valor total das compras: R$:' + x)"
      ],
      "metadata": {
        "colab": {
          "base_uri": "https://localhost:8080/"
        },
        "id": "lEjdNEYg48kV",
        "outputId": "c84bfe17-2b10-44c0-90ca-ab9a7854135e"
      },
      "execution_count": null,
      "outputs": [
        {
          "output_type": "stream",
          "name": "stdout",
          "text": [
            "valor total das compras: R$:301\n",
            "valor total das compras: R$:210.7\n"
          ]
        }
      ]
    },
    {
      "cell_type": "code",
      "source": [
        "#Peça ao usuário para informar sua idade. Utilize a estrutura `if`, `elif`, `else` para\n",
        "#determinar o preço do ingresso em um cinema:\n",
        "#- Crianças até 5 anos: entrada gratuita.\n",
        "#- Crianças de 6 a 12 anos: meia entrada.\n",
        "#- Adultos de 13 a 59 anos: preço normal.\n",
        "#- Idosos a partir de 60 anos: desconto de 50%.\n",
        "\n",
        "print('##### Cinema #####')\n",
        "x = int(input('para descobrir o valor do ingresso informe sua idade: '))\n",
        "if x <= 5: print('entrada gratuita')\n",
        "elif x >= 60: print('desconto de 50%')\n",
        "elif 13 <= x < 60: print('preço normal')\n",
        "else: print('meia entrada')\n",
        "\n"
      ],
      "metadata": {
        "colab": {
          "base_uri": "https://localhost:8080/"
        },
        "id": "1Sa9YhF1CGym",
        "outputId": "9cd7bb23-200d-4ca5-fd79-14550e3c05b0"
      },
      "execution_count": null,
      "outputs": [
        {
          "output_type": "stream",
          "name": "stdout",
          "text": [
            "##### Cinema #####\n",
            "para descobrir o valor do ingresso informe sua idade: 60\n",
            "desconto de 50%\n"
          ]
        }
      ]
    },
    {
      "cell_type": "code",
      "source": [
        "#Crie um programa que solicite ao usuário um número de 1 a 7, representando os dias\n",
        "#da semana. Utilize a estrutura `if`, `elif`, `else` para imprimir o dia correspondente (1 para\n",
        "#Domingo, 2 para Segunda-feira, etc.).\n",
        "\n",
        "x = int(input('Digite um numero de 1 a 7\\n'))\n",
        "if x > 7: print('numero invalido')\n",
        "elif x < 1: print('numero invalido')\n",
        "elif x == 1: print(f'o dia {x} da semana é domingo')\n",
        "elif x == 2: print(f'o dia {x} da semana é segunda-feira')\n",
        "elif x == 3: print(f'o dia {x} da semana é terça-feira')\n",
        "elif x == 4: print(f'o dia {x} da semana é quarta-feira')\n",
        "elif x == 5: print(f'o dia {x} da semana é quinta-feira')\n",
        "elif x == 6: print(f'o dia {x} da semana é sexta-feira')\n",
        "else: print(f'o dia {x} da semana é sabado')\n",
        "\n",
        "\n",
        "\n",
        "\n"
      ],
      "metadata": {
        "colab": {
          "base_uri": "https://localhost:8080/"
        },
        "id": "YAMNNEuoF_Uo",
        "outputId": "0adb51c3-5821-4462-bd28-381b8f211194"
      },
      "execution_count": null,
      "outputs": [
        {
          "output_type": "stream",
          "name": "stdout",
          "text": [
            "Digite um numero de 1 a 7\n",
            "3\n",
            "o dia 3 da semana é terça-feira\n"
          ]
        }
      ]
    },
    {
      "cell_type": "code",
      "source": [
        "#Peça ao usuário para inserir os três lados de um triângulo. Utilize a estrutura `if`, `elif`,\n",
        "#`else` para determinar se é um triângulo equilátero (todos os lados iguais), isósceles (dois\n",
        "#lados iguais) ou escaleno (todos os lados diferentes).\n",
        "\n",
        "print('Determine o tipo do seu triangulo\\n\\n')\n",
        "a = int(input('digite o lado 1 do triangulo: '))\n",
        "b = int(input('digite o lado 2 do triangulo: '))\n",
        "c = int(input('digite o lado 3 do triangulo: '))\n",
        "\n",
        "if a + b < c: print('não é triangulo')\n",
        "elif b + c < a: print('não é triangulo')\n",
        "elif c + a < b: print('não é triangulo')\n",
        "elif a == b == c: print('triangulo equilátero')\n",
        "elif a == b > c: print('triangulo isósceles')\n",
        "elif b == a > c: print('triangulo isósceles')\n",
        "elif c == b > a: print('triangulo isósceles')\n",
        "else: print('triangulo escaleno')\n",
        "\n"
      ],
      "metadata": {
        "colab": {
          "base_uri": "https://localhost:8080/"
        },
        "id": "ypdgszZwXogc",
        "outputId": "7fdcb51d-eb8c-4b3c-8d22-f5cd850f162d"
      },
      "execution_count": null,
      "outputs": [
        {
          "output_type": "stream",
          "name": "stdout",
          "text": [
            "Determine o tipo do seu triangulo\n",
            "\n",
            "\n",
            "digite o lado 1 do triangulo: 5\n",
            "digite o lado 2 do triangulo: 1\n",
            "digite o lado 3 do triangulo: 1\n",
            "não é triangulo\n"
          ]
        }
      ]
    },
    {
      "cell_type": "code",
      "source": [
        "#Crie um programa que solicite ao usuário sua nota de 0 a 10 em uma disciplina. Utilize\n",
        "#a estrutura `if`, `elif`, `else` para converter a nota em conceitos de A, B, C, D ou F.\n",
        "\n",
        "x = int(input('insira sua nota de 0 a 10: '))\n",
        "if x > 10: print(\"insira uma nota válida\")\n",
        "elif x < 0: print(\"insira uma nota válida\")\n",
        "elif x < 6: print(\"sua nota: F\")\n",
        "elif 7 > x >= 6: print(\"sua nota: D\")\n",
        "elif 8 > x >= 7: print(\"sua nota: C\")\n",
        "elif 9 > x >= 8: print(\"sua nota: B\")\n",
        "else: print(\"sua nota: A\")"
      ],
      "metadata": {
        "colab": {
          "base_uri": "https://localhost:8080/"
        },
        "id": "yQCTFGGTcytM",
        "outputId": "a5be2739-1a67-43e7-865f-598432cf1c67"
      },
      "execution_count": null,
      "outputs": [
        {
          "output_type": "stream",
          "name": "stdout",
          "text": [
            "insira sua nota de 0 a 10: 10\n",
            "sua nota: A\n"
          ]
        }
      ]
    },
    {
      "cell_type": "code",
      "source": [
        "#Peça ao usuário para inserir um ano. Utilize a estrutura `if`, `elif`, `else` para\n",
        "#determinar se o ano é bissexto ou não (regras: múltiplo de 4 e não múltiplo de 100, exceto\n",
        "#se for múltiplo de 400).\n",
        "\n",
        "print('calculadora de ano bissexto')\n",
        "x = int(input('digite o ano: '))\n",
        "if x % 400 == 0: print(f'{x} é ano bissexto')\n",
        "elif x % 100 == 0: print(f'{x} não é ano bissexto')\n",
        "elif x % 4 == 0: print(f'{x} é ano bissexto')\n",
        "else: print(f'{x} não é ano bissexto')\n"
      ],
      "metadata": {
        "colab": {
          "base_uri": "https://localhost:8080/"
        },
        "id": "7w1YoVMDdaF8",
        "outputId": "ed4d7631-a675-41da-f430-1f58b76c4ecc"
      },
      "execution_count": null,
      "outputs": [
        {
          "output_type": "stream",
          "name": "stdout",
          "text": [
            "calculadora de ano bissexto\n",
            "digite o ano: 349\n",
            "349 não é ano bissexto\n"
          ]
        }
      ]
    }
  ],
  "metadata": {
    "colab": {
      "name": "exercicios python if/elif/else",
      "provenance": [],
      "include_colab_link": true
    },
    "kernelspec": {
      "display_name": "Python 3",
      "name": "python3"
    }
  },
  "nbformat": 4,
  "nbformat_minor": 0
}